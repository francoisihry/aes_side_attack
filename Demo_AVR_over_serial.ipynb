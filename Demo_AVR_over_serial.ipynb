{
 "cells": [
  {
   "cell_type": "code",
   "execution_count": 115,
   "metadata": {
    "collapsed": false
   },
   "outputs": [
    {
     "name": "stdout",
     "output_type": "stream",
     "text": [
      "b''\n"
     ]
    }
   ],
   "source": [
    "import serial\n",
    "import time\n",
    "ser = serial.Serial('/dev/ttyUSB0', baudrate=9600) \n",
    "time.sleep(1)\n",
    "r = ser.read_all()\n",
    "print(r)"
   ]
  },
  {
   "cell_type": "code",
   "execution_count": 35,
   "metadata": {
    "collapsed": false
   },
   "outputs": [
    {
     "name": "stdout",
     "output_type": "stream",
     "text": [
      "b'\\nTest connection\\n'\n",
      "b'\\nSend plaintext\\n'\n",
      "b'\\nSend key\\n'\n",
      "b'\\nGo, execute AES encryption\\n'\n",
      "b'\\nGet ciphertext, expect 16 bytes corresponding to the ciphertext.\\n'\n",
      "b'\\nFast mode, send plaintext, execute AES and give the ciphertext back. Expect 16 bytes corresponding to the ciphertext.\\n'\n"
     ]
    }
   ],
   "source": [
    "ser.write(b't')\n",
    "time.sleep(1)\n",
    "r = ser.read_all()\n",
    "print(r)\n",
    "\n",
    "ser.write(b'p') \n",
    "time.sleep(1)\n",
    "r = ser.read_all()\n",
    "print(r)\n",
    "\n",
    "ser.write(b'k')\n",
    "time.sleep(1)\n",
    "r = ser.read_all()\n",
    "print(r)\n",
    "\n",
    "ser.write(b'g') \n",
    "time.sleep(1)\n",
    "r = ser.read_all()\n",
    "print(r)\n",
    "\n",
    "ser.write(b'c') \n",
    "time.sleep(1)\n",
    "r = ser.read_all()\n",
    "print(r)\n",
    "\n",
    "ser.write(b'f') \n",
    "time.sleep(1)\n",
    "r = ser.read_all()\n",
    "print(r)"
   ]
  },
  {
   "cell_type": "code",
   "execution_count": 45,
   "metadata": {
    "collapsed": false
   },
   "outputs": [
    {
     "name": "stdout",
     "output_type": "stream",
     "text": [
      "b''\n"
     ]
    }
   ],
   "source": [
    "packet = bytearray()\n",
    "packet.append(ord('c'))\n",
    "\n",
    "\n",
    "ser.write(packet)\n",
    "time.sleep(1)\n",
    "r = ser.read_all()\n",
    "print(r)"
   ]
  },
  {
   "cell_type": "code",
   "execution_count": 40,
   "metadata": {
    "collapsed": false
   },
   "outputs": [
    {
     "data": {
      "text/plain": [
       "'0x63'"
      ]
     },
     "execution_count": 40,
     "metadata": {},
     "output_type": "execute_result"
    }
   ],
   "source": [
    "hex(ord('c'))"
   ]
  },
  {
   "cell_type": "code",
   "execution_count": 47,
   "metadata": {
    "collapsed": false
   },
   "outputs": [
    {
     "name": "stdout",
     "output_type": "stream",
     "text": [
      "b''\n"
     ]
    }
   ],
   "source": [
    "plaintext = bytearray(\n",
    "    [0x32, 0x43, 0xf6, 0xa8, 0x88, 0x5a, 0x30, 0x8d, 0x31, 0x31, 0x98, 0xa2, 0xe0, 0x37, 0x07, 0x34])\n",
    "ser.write(b'p')\n",
    "ser.write(plaintext)\n",
    "time.sleep(1)\n",
    "r = ser.read_all()\n",
    "print(r)"
   ]
  },
  {
   "cell_type": "code",
   "execution_count": 67,
   "metadata": {
    "collapsed": false
   },
   "outputs": [
    {
     "name": "stdout",
     "output_type": "stream",
     "text": [
      "b'\\nFast mode, send plaintext, execute AES and give the ciphertext back. Expect 16 bytes corresponding to the ciphertext.\\n'\n"
     ]
    }
   ],
   "source": [
    "ser.write(b'f') \n",
    "time.sleep(1)\n",
    "r = ser.read_all()\n",
    "print(r)"
   ]
  },
  {
   "cell_type": "code",
   "execution_count": 60,
   "metadata": {
    "collapsed": false
   },
   "outputs": [
    {
     "name": "stdout",
     "output_type": "stream",
     "text": [
      "b'\\nSend plaintext\\n'\n"
     ]
    }
   ],
   "source": [
    "ser.write(b'p')\n",
    "time.sleep(1)\n",
    "r = ser.read_all()\n",
    "print(r)"
   ]
  },
  {
   "cell_type": "markdown",
   "metadata": {},
   "source": [
    "### Envoie du plaintext :"
   ]
  },
  {
   "cell_type": "code",
   "execution_count": 120,
   "metadata": {
    "collapsed": false
   },
   "outputs": [
    {
     "name": "stdout",
     "output_type": "stream",
     "text": [
      "b'9%\\x84\\x1d\\x02\\xdc\\t\\xfb\\xdc\\x11\\x85\\x97\\x19j\\x0b2Welcome on the AES cipher board ! \\n\\nSend plaintext\\n'\n",
      "b'plaintext received !\\n'\n"
     ]
    }
   ],
   "source": [
    "ser.write(b'p')\n",
    "time.sleep(1)\n",
    "r = ser.read_all()\n",
    "print(r)\n",
    "plaintext = bytearray(\n",
    "    [0x32, 0x43, 0xf6, 0xa8, 0x88, 0x5a, 0x30, 0x8d, 0x31, 0x31, 0x98, 0xa2, 0xe0, 0x37, 0x07, 0x34])\n",
    "ser.write(plaintext)\n",
    "time.sleep(1)\n",
    "r = ser.read_all()\n",
    "print(r)"
   ]
  },
  {
   "cell_type": "markdown",
   "metadata": {},
   "source": [
    "### Envoie de la  clé :"
   ]
  },
  {
   "cell_type": "code",
   "execution_count": 121,
   "metadata": {
    "collapsed": false
   },
   "outputs": [
    {
     "name": "stdout",
     "output_type": "stream",
     "text": [
      "b'\\nSend key\\n'\n",
      "b'key received !\\n'\n"
     ]
    }
   ],
   "source": [
    "ser.write(b'k')\n",
    "time.sleep(1)\n",
    "r = ser.read_all()\n",
    "print(r)\n",
    "plaintext = bytearray(\n",
    "    [0x2b, 0x7e, 0x15, 0x16, 0x28, 0xae, 0xd2, 0xa6, 0xab, 0xf7, 0x15, 0x88, 0x09, 0xcf, 0x4f, 0x3c])\n",
    "ser.write(plaintext)\n",
    "time.sleep(1)\n",
    "r = ser.read_all()\n",
    "print(r)"
   ]
  },
  {
   "cell_type": "markdown",
   "metadata": {},
   "source": [
    "### On récupère le texte chiffré :"
   ]
  },
  {
   "cell_type": "code",
   "execution_count": 145,
   "metadata": {
    "collapsed": false
   },
   "outputs": [],
   "source": [
    "ser.write(b'c')\n",
    "ciphertext=[]\n",
    "for i in range(0,16):\n",
    "    ciphertext.append(int.from_bytes(ser.read(),byteorder='little'))\n",
    "    #print(hex(int.from_bytes(ser.read(),byteorder='little')))"
   ]
  },
  {
   "cell_type": "code",
   "execution_count": 147,
   "metadata": {
    "collapsed": false
   },
   "outputs": [
    {
     "name": "stdout",
     "output_type": "stream",
     "text": [
      "0x39\n",
      "0x25\n",
      "0x84\n",
      "0x1d\n",
      "0x2\n",
      "0xdc\n",
      "0x9\n",
      "0xfb\n",
      "0xdc\n",
      "0x11\n",
      "0x85\n",
      "0x97\n",
      "0x19\n",
      "0x6a\n",
      "0xb\n",
      "0x32\n"
     ]
    }
   ],
   "source": [
    "for e in ciphertext:\n",
    "    print(hex(e)) "
   ]
  },
  {
   "cell_type": "code",
   "execution_count": null,
   "metadata": {
    "collapsed": true
   },
   "outputs": [],
   "source": []
  }
 ],
 "metadata": {
  "kernelspec": {
   "display_name": "Python 3",
   "language": "python",
   "name": "python3"
  },
  "language_info": {
   "codemirror_mode": {
    "name": "ipython",
    "version": 3
   },
   "file_extension": ".py",
   "mimetype": "text/x-python",
   "name": "python",
   "nbconvert_exporter": "python",
   "pygments_lexer": "ipython3",
   "version": "3.5.4"
  }
 },
 "nbformat": 4,
 "nbformat_minor": 2
}
