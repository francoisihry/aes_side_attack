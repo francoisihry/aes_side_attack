{
 "cells": [
  {
   "cell_type": "code",
   "execution_count": 48,
   "metadata": {
    "collapsed": false
   },
   "outputs": [
    {
     "name": "stdout",
     "output_type": "stream",
     "text": [
      "b''\n"
     ]
    }
   ],
   "source": [
    "import serial\n",
    "import time\n",
    "ser = serial.Serial('/dev/ttyUSB0', baudrate=9600) \n",
    "time.sleep(1)\n",
    "r = ser.read_all()\n",
    "print(r)"
   ]
  },
  {
   "cell_type": "code",
   "execution_count": 52,
   "metadata": {
    "collapsed": false
   },
   "outputs": [
    {
     "name": "stdout",
     "output_type": "stream",
     "text": [
      "b''\n"
     ]
    }
   ],
   "source": [
    "r = ser.read_all()\n",
    "print(r)"
   ]
  },
  {
   "cell_type": "code",
   "execution_count": 55,
   "metadata": {
    "collapsed": false
   },
   "outputs": [
    {
     "name": "stdout",
     "output_type": "stream",
     "text": [
      "b'OK\\n'\n"
     ]
    }
   ],
   "source": [
    "ser.write(b't')\n",
    "print(ser.readline())"
   ]
  },
  {
   "cell_type": "markdown",
   "metadata": {},
   "source": [
    "### Envoie du plaintext :"
   ]
  },
  {
   "cell_type": "code",
   "execution_count": null,
   "metadata": {
    "collapsed": true
   },
   "outputs": [],
   "source": []
  },
  {
   "cell_type": "code",
   "execution_count": 2,
   "metadata": {
    "collapsed": false
   },
   "outputs": [
    {
     "name": "stdout",
     "output_type": "stream",
     "text": [
      "b'\\nSend plaintext\\n'\n",
      "b'plaintext received !\\n'\n"
     ]
    }
   ],
   "source": [
    "ser.write(b'p')\n",
    "time.sleep(1)\n",
    "r = ser.read_all()\n",
    "print(r)\n",
    "plaintext = [0x32, 0x43, 0xf6, 0xa8, 0x88, 0x5a, 0x30, 0x8d, 0x31, 0x31, 0x98, 0xa2, 0xe0, 0x37, 0x07, 0x34]\n",
    "ser.write(bytearray(plaintext))\n",
    "time.sleep(1)\n",
    "r = ser.read_all()\n",
    "print(r)"
   ]
  },
  {
   "cell_type": "markdown",
   "metadata": {},
   "source": [
    "### Envoie de la  clé :"
   ]
  },
  {
   "cell_type": "code",
   "execution_count": 3,
   "metadata": {
    "collapsed": false
   },
   "outputs": [
    {
     "name": "stdout",
     "output_type": "stream",
     "text": [
      "b'\\nSend key\\n'\n",
      "b'key received !\\n'\n"
     ]
    }
   ],
   "source": [
    "ser.write(b'k')\n",
    "time.sleep(1)\n",
    "r = ser.read_all()\n",
    "print(r)\n",
    "key = [0x2b, 0x7e, 0x15, 0x16, 0x28, 0xae, 0xd2, 0xa6, 0xab, 0xf7, 0x15, 0x88, 0x09, 0xcf, 0x4f, 0x3c]\n",
    "ser.write(bytearray(key))\n",
    "time.sleep(1)\n",
    "r = ser.read_all()\n",
    "print(r)"
   ]
  },
  {
   "cell_type": "markdown",
   "metadata": {},
   "source": [
    "### On execute le chiffrement:"
   ]
  },
  {
   "cell_type": "code",
   "execution_count": 4,
   "metadata": {
    "collapsed": false
   },
   "outputs": [
    {
     "name": "stdout",
     "output_type": "stream",
     "text": [
      "b'\\nGo, execute AES encryption\\n'\n"
     ]
    }
   ],
   "source": [
    "ser.write(b'g')\n",
    "time.sleep(1)\n",
    "r = ser.read_all()\n",
    "print(r)"
   ]
  },
  {
   "cell_type": "markdown",
   "metadata": {},
   "source": [
    "### On récupère le texte chiffré :"
   ]
  },
  {
   "cell_type": "code",
   "execution_count": 5,
   "metadata": {
    "collapsed": false
   },
   "outputs": [],
   "source": [
    "ser.write(b'c')\n",
    "ciphertext=[]\n",
    "for i in range(0,16):\n",
    "    ciphertext.append(int.from_bytes(ser.read(),byteorder='little'))\n",
    "    #print(hex(int.from_bytes(ser.read(),byteorder='little')))"
   ]
  },
  {
   "cell_type": "code",
   "execution_count": 6,
   "metadata": {
    "collapsed": false
   },
   "outputs": [
    {
     "name": "stdout",
     "output_type": "stream",
     "text": [
      "0x39\n",
      "0x25\n",
      "0x84\n",
      "0x1d\n",
      "0x2\n",
      "0xdc\n",
      "0x9\n",
      "0xfb\n",
      "0xdc\n",
      "0x11\n",
      "0x85\n",
      "0x97\n",
      "0x19\n",
      "0x6a\n",
      "0xb\n",
      "0x32\n"
     ]
    }
   ],
   "source": [
    "for e in ciphertext:\n",
    "    print(hex(e)) "
   ]
  },
  {
   "cell_type": "code",
   "execution_count": 7,
   "metadata": {
    "collapsed": false
   },
   "outputs": [
    {
     "name": "stdout",
     "output_type": "stream",
     "text": [
      "0x39\n",
      "0x25\n",
      "0x84\n",
      "0x1d\n",
      "0x2\n",
      "0xdc\n",
      "0x9\n",
      "0xfb\n",
      "0xdc\n",
      "0x11\n",
      "0x85\n",
      "0x97\n",
      "0x19\n",
      "0x6a\n",
      "0xb\n",
      "0x32\n"
     ]
    }
   ],
   "source": [
    "from aes import aes_128\n",
    "for e in aes_128(plaintext,key):\n",
    "    print(hex(e)) "
   ]
  },
  {
   "cell_type": "code",
   "execution_count": 8,
   "metadata": {
    "collapsed": false
   },
   "outputs": [
    {
     "data": {
      "text/plain": [
       "True"
      ]
     },
     "execution_count": 8,
     "metadata": {},
     "output_type": "execute_result"
    }
   ],
   "source": [
    "ciphertext == aes_128(plaintext,key)"
   ]
  },
  {
   "cell_type": "markdown",
   "metadata": {},
   "source": [
    "### Fast mode"
   ]
  },
  {
   "cell_type": "code",
   "execution_count": 9,
   "metadata": {
    "collapsed": false
   },
   "outputs": [
    {
     "name": "stdout",
     "output_type": "stream",
     "text": [
      "0x39\n",
      "0x25\n",
      "0x84\n",
      "0x1d\n",
      "0x2\n",
      "0xdc\n",
      "0x9\n",
      "0xfb\n",
      "0xdc\n",
      "0x11\n",
      "0x85\n",
      "0x97\n",
      "0x19\n",
      "0x6a\n",
      "0xb\n",
      "0x32\n",
      "Le chiffré est correct\n"
     ]
    }
   ],
   "source": [
    "ser.write(b'f')\n",
    "plaintext = [0x32, 0x43, 0xf6, 0xa8, 0x88, 0x5a, 0x30, 0x8d, 0x31, 0x31, 0x98, 0xa2, 0xe0, 0x37, 0x07, 0x34]\n",
    "ser.write(bytearray(plaintext))\n",
    "ciphertext=[]\n",
    "for i in range(0,16):\n",
    "    ciphertext.append(int.from_bytes(ser.read(),byteorder='little'))\n",
    "    \n",
    "for e in ciphertext:\n",
    "    print(hex(e)) \n",
    "\n",
    "if ciphertext == aes_128(plaintext,key):\n",
    "    print(\"Le chiffré est correct\")\n",
    "else:\n",
    "    print(\"le chiffré est incorrect !\")"
   ]
  },
  {
   "cell_type": "code",
   "execution_count": 10,
   "metadata": {
    "collapsed": true
   },
   "outputs": [],
   "source": [
    "ser.close()"
   ]
  },
  {
   "cell_type": "code",
   "execution_count": null,
   "metadata": {
    "collapsed": true
   },
   "outputs": [],
   "source": []
  }
 ],
 "metadata": {
  "kernelspec": {
   "display_name": "Python 3",
   "language": "python",
   "name": "python3"
  },
  "language_info": {
   "codemirror_mode": {
    "name": "ipython",
    "version": 3
   },
   "file_extension": ".py",
   "mimetype": "text/x-python",
   "name": "python",
   "nbconvert_exporter": "python",
   "pygments_lexer": "ipython3",
   "version": "3.5.4"
  }
 },
 "nbformat": 4,
 "nbformat_minor": 2
}
